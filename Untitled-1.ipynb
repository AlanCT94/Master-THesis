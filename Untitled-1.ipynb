{
 "cells": [
  {
   "cell_type": "code",
   "execution_count": 6,
   "metadata": {},
   "outputs": [],
   "source": [
    "file1 = open('output_test2.txt', 'w')\n",
    "for x in range(9):\n",
    "    file1.write(str(x) + '\\n')"
   ]
  },
  {
   "cell_type": "code",
   "execution_count": 10,
   "metadata": {},
   "outputs": [],
   "source": [
    "from dataset import CamLocDataset\n",
    "from torch.utils.data import DataLoader\n",
    "from ace_loss import ReproLoss\n",
    "import torch"
   ]
  },
  {
   "cell_type": "code",
   "execution_count": null,
   "metadata": {},
   "outputs": [],
   "source": []
  },
  {
   "cell_type": "markdown",
   "metadata": {},
   "source": []
  },
  {
   "cell_type": "code",
   "execution_count": 2,
   "metadata": {},
   "outputs": [],
   "source": [
    "dataset= CamLocDataset(rgb_files=\"/home/alan/Desktop/Master-Thesis/chess/chess_rgb/*.png\",\n",
    "                          pose_files=\"/home/alan/Desktop/Master-Thesis/chess/chess_poses/*.txt\",\n",
    "                          depth_files=\"/home/alan/Desktop/Master-Thesis/chess/chess_depth/*.png\",\n",
    "                          use_depth=True,\n",
    "                          use_heuristic_focal_length=True)"
   ]
  },
  {
   "cell_type": "code",
   "execution_count": 3,
   "metadata": {},
   "outputs": [],
   "source": [
    "si=dataset._get_single_item(5,480)\n",
    "# len(si) 9\n",
    "\n",
    "image, image_mask, pose_inv, pose_rot_inv, intrinsics, intrinsics_inv, coords, rgb_files, idx = si"
   ]
  },
  {
   "cell_type": "code",
   "execution_count": 18,
   "metadata": {},
   "outputs": [
    {
     "data": {
      "text/plain": [
       "torch.Size([1, 480, 640])"
      ]
     },
     "execution_count": 18,
     "metadata": {},
     "output_type": "execute_result"
    }
   ],
   "source": [
    "image.size()"
   ]
  },
  {
   "cell_type": "code",
   "execution_count": 16,
   "metadata": {},
   "outputs": [
    {
     "data": {
      "text/plain": [
       "torch.Size([3, 60, 80])"
      ]
     },
     "execution_count": 16,
     "metadata": {},
     "output_type": "execute_result"
    }
   ],
   "source": [
    "#### Size of an image torch.Size([1, 480, 640])\n",
    "#### ReproLoss(1, type=\"dyntanh\")\n",
    "\n",
    "coords.size()\n",
    "random1=torch.rand(3,60,80)\n",
    "random1.size()"
   ]
  },
  {
   "cell_type": "code",
   "execution_count": null,
   "metadata": {},
   "outputs": [],
   "source": [
    "for idx in dataset.valid_file_indices:\n",
    "    size= 480\n",
    "    print(idx)"
   ]
  },
  {
   "cell_type": "code",
   "execution_count": null,
   "metadata": {},
   "outputs": [],
   "source": [
    "dataset.valid_file_indices"
   ]
  }
 ],
 "metadata": {
  "kernelspec": {
   "display_name": "base",
   "language": "python",
   "name": "python3"
  },
  "language_info": {
   "codemirror_mode": {
    "name": "ipython",
    "version": 3
   },
   "file_extension": ".py",
   "mimetype": "text/x-python",
   "name": "python",
   "nbconvert_exporter": "python",
   "pygments_lexer": "ipython3",
   "version": "3.8.16"
  }
 },
 "nbformat": 4,
 "nbformat_minor": 2
}
